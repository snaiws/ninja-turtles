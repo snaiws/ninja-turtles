{
 "cells": [
  {
   "cell_type": "code",
   "execution_count": 1,
   "id": "699cfe83",
   "metadata": {},
   "outputs": [],
   "source": [
    "import numpy as np\n",
    "import glob, cv2\n",
    "import matplotlib.pyplot as plt\n",
    "\n",
    "from PIL import Image, ImageDraw\n",
    "import albumentations.pytorch\n",
    "import torch\n",
    "import torch.distributed as dist\n",
    "import torch.nn as nn\n",
    "\n",
    "import torchvision\n",
    "import os\n",
    "import random\n",
    "import torch.utils.data as data_utils\n",
    "import datetime\n",
    "from shutil import copyfile\n",
    "import time\n",
    "\n",
    "import scipy\n",
    "import torch.nn.functional as F\n",
    "from ultralytics import YOLO"
   ]
  },
  {
   "cell_type": "code",
   "execution_count": 2,
   "id": "095debbc",
   "metadata": {},
   "outputs": [
    {
     "name": "stdout",
     "output_type": "stream",
     "text": [
      "My code confirm---------\n",
      "segment\n",
      "False\n"
     ]
    }
   ],
   "source": [
    "model = YOLO('./runs/nonE2E_Data/weights/best.pt').cuda()\n",
    "print(model.task)\n",
    "print(model.model.end2end)"
   ]
  },
  {
   "cell_type": "code",
   "execution_count": 3,
   "id": "c92cb912",
   "metadata": {},
   "outputs": [
    {
     "name": "stdout",
     "output_type": "stream",
     "text": [
      "Removed New dir\n"
     ]
    }
   ],
   "source": [
    "import shutil \n",
    "import time\n",
    "try: \n",
    "    shutil.rmtree('./Export/')\n",
    "    print(\"Removed New dir\")\n",
    "except:\n",
    "    print(\"Making New dir\")\n",
    "\n",
    "filepath = './Export/'\n",
    "if not os.path.exists(os.path.dirname(filepath)):\n",
    "    try:\n",
    "        os.makedirs(os.path.dirname(filepath))\n",
    "    except OSError as exc: # Guard against race condition\n",
    "        if exc.errno != errno.EEXIST:\n",
    "            raise\n"
   ]
  },
  {
   "cell_type": "code",
   "execution_count": 8,
   "id": "618d5fd7",
   "metadata": {},
   "outputs": [
    {
     "name": "stdout",
     "output_type": "stream",
     "text": [
      "Error : Directory Invalid\n"
     ]
    }
   ],
   "source": [
    "\n",
    "# Define the base directories\n",
    "input_base_dir = ''#Test Data directory\n",
    "output_base_dir = './Export/'\n",
    "\n",
    "t1 = []\n",
    "t2 = []\n",
    "t3 = []\n",
    "t4 = []\n",
    "# Iterate over all PNG images in the specified directory structure\n",
    "if len(glob.glob(os.path.join(input_base_dir, '*', 'img', '*.png')))<100:\n",
    "    print(\"Error : Directory Invalid\")\n",
    "    \n",
    "for img_name in glob.glob(os.path.join(input_base_dir, '*', 'img', '*.png')):\n",
    "    \n",
    "    # Extract city name and file name\n",
    "    city_name = os.path.basename(os.path.dirname(os.path.dirname(img_name)))\n",
    "    file_name = os.path.splitext(os.path.basename(img_name))[0]\n",
    "    \n",
    "    # Define the output text file path\n",
    "    output_dir = os.path.join(output_base_dir, city_name, 'txt')\n",
    "    output_file = os.path.join(output_dir, f\"{file_name}.txt\")\n",
    "    \n",
    "    # Create the output directory if it doesn't exist\n",
    "    os.makedirs(output_dir, exist_ok=True)\n",
    "    \n",
    "\n",
    "    \n",
    "    #===============================\n",
    "    t1.append(time.time())\n",
    "    #===============================\n",
    "    \n",
    "    results = model(img_name,verbose=False, imgsz=[480,1280],conf=0.001)\n",
    "\n",
    "    #===============================\n",
    "    t2.append(time.time())\n",
    "    #===============================\n",
    "    target_outputs = results[0].boxes.data.cpu().numpy()\n",
    "    target_img = results[0].orig_img\n",
    "\n",
    "    target_img = np.array(target_img[:, :, ::-1])\n",
    "\n",
    "    xyxy = target_outputs[:,0:4]\n",
    "    cls = target_outputs[:,5].astype('int')\n",
    "    loc = target_outputs[:,6].astype('int')\n",
    "    action = target_outputs[:,7:].astype('int')\n",
    "    #===============================\n",
    "    t3.append(time.time())\n",
    "    #===============================\n",
    "\n",
    "    \n",
    "    with open(output_file, 'w') as f:\n",
    "        for i in range(xyxy.shape[0]):\n",
    "            #print(naming_num[i])\n",
    "\n",
    "            result_box = results[0].boxes.data[i].cpu().numpy()\n",
    "            result_mask = results[0].masks.xyn[i].flatten()\n",
    "            if len(result_mask) >5:\n",
    "         \n",
    "                result_txt = str(result_box[4])+' '+np.array2string(result_box[5:].astype(int))[1:-1]+' '+' '.join(map(str, result_mask))+'\\n'\n",
    "                f.write(result_txt)\n",
    "\n",
    "    #===============================\n",
    "\n",
    "    t4.append(time.time())\n",
    "    \n",
    "    "
   ]
  },
  {
   "cell_type": "code",
   "execution_count": null,
   "id": "2706767a",
   "metadata": {},
   "outputs": [],
   "source": [
    "\n",
    "print('Run model              :' , np.median((np.array(t2)-np.array(t1))))\n",
    "print('Post Process           :' , np.median((np.array(t3)-np.array(t2))))\n",
    "print('Plot Results           :' , np.median((np.array(t4)-np.array(t3))))"
   ]
  },
  {
   "cell_type": "code",
   "execution_count": null,
   "id": "fb6df952",
   "metadata": {},
   "outputs": [],
   "source": []
  }
 ],
 "metadata": {
  "kernelspec": {
   "display_name": "Python 3 (ipykernel)",
   "language": "python",
   "name": "python3"
  },
  "language_info": {
   "codemirror_mode": {
    "name": "ipython",
    "version": 3
   },
   "file_extension": ".py",
   "mimetype": "text/x-python",
   "name": "python",
   "nbconvert_exporter": "python",
   "pygments_lexer": "ipython3",
   "version": "3.10.12"
  }
 },
 "nbformat": 4,
 "nbformat_minor": 5
}
