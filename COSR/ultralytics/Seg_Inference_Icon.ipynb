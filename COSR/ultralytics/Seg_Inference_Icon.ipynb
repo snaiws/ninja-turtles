{
 "cells": [
  {
   "cell_type": "code",
   "execution_count": 1,
   "id": "ab6bd90b",
   "metadata": {},
   "outputs": [],
   "source": [
    "import numpy as np\n",
    "import glob, cv2\n",
    "import matplotlib.pyplot as plt\n",
    "\n",
    "from PIL import Image, ImageDraw\n",
    "import albumentations.pytorch\n",
    "import torch\n",
    "import torch.distributed as dist\n",
    "import torch.nn as nn\n",
    "\n",
    "import torchvision\n",
    "import os\n",
    "import random\n",
    "import torch.utils.data as data_utils\n",
    "import datetime\n",
    "from shutil import copyfile\n",
    "import time\n",
    "\n",
    "import scipy\n",
    "import torch.nn.functional as F"
   ]
  },
  {
   "cell_type": "code",
   "execution_count": 2,
   "id": "4f739008",
   "metadata": {},
   "outputs": [],
   "source": [
    "from ultralytics import YOLO"
   ]
  },
  {
   "cell_type": "code",
   "execution_count": 3,
   "id": "4be71411",
   "metadata": {},
   "outputs": [
    {
     "name": "stdout",
     "output_type": "stream",
     "text": [
      "My code confirm---------\n",
      "segment\n"
     ]
    }
   ],
   "source": [
    "model = YOLO('./runs/nonE2E_Data/weights/best.pt').cuda()\n",
    "print(model.task)"
   ]
  },
  {
   "cell_type": "code",
   "execution_count": 4,
   "id": "4ac4f87d",
   "metadata": {},
   "outputs": [
    {
     "name": "stdout",
     "output_type": "stream",
     "text": [
      "False\n"
     ]
    }
   ],
   "source": [
    "print(model.model.end2end)"
   ]
  },
  {
   "cell_type": "code",
   "execution_count": 5,
   "id": "f2dad38b",
   "metadata": {},
   "outputs": [],
   "source": [
    "#--------------Class Param------------\n",
    "agent_classes = ['Car', 'Bus']\n",
    "loc_classes = ['VehLane', 'OutgoLane', 'IncomLane',  'Jun', 'Parking']\n",
    "action_classes = ['Brake','IncatLft', 'IncatRht', 'HazLit']\n",
    "class_nums = [len(agent_classes), len(loc_classes), len(action_classes)]\n",
    "#--------------Class Param------------\n"
   ]
  },
  {
   "cell_type": "code",
   "execution_count": 6,
   "id": "8c700e31",
   "metadata": {},
   "outputs": [],
   "source": [
    "icons = {}\n",
    "for actions in action_classes:\n",
    "    target = './Icons/'+actions+'.png'\n",
    "    icon_img = cv2.imread(target)\n",
    "    icon_img = cv2.cvtColor(icon_img, cv2.COLOR_BGR2RGB)\n",
    "    icons[actions] = icon_img\n",
    "    \n",
    "for actions in loc_classes:\n",
    "    #print(actions)\n",
    "    target = './Icons/'+actions+'.png'\n",
    "    icon_img = cv2.imread(target)\n",
    "    icon_img = cv2.cvtColor(icon_img, cv2.COLOR_BGR2RGB)\n",
    "    icons[actions] = icon_img"
   ]
  },
  {
   "cell_type": "code",
   "execution_count": 7,
   "id": "c88fca5a",
   "metadata": {},
   "outputs": [],
   "source": [
    "\n",
    "def seg_plot_one_box(x,idx, img,mask, cls,loc,action,  color=None, label=None,track_id=None, line_thickness=None):\n",
    "    # Plots one bounding box on image img\n",
    "    tl = line_thickness or 2  # line thickness\n",
    "    color = color or [random.randint(0, 255) for _ in range(3)]\n",
    "    \n",
    "    c1, c2 = (np.clip(int(x[0]),0,img.shape[1]), np.clip(int(x[1]),0,img.shape[0])), (np.clip(int(x[2]),0,img.shape[1]), np.clip(int(x[3]),0,img.shape[0]))\n",
    "    \n",
    "    cv2.rectangle(img, c1, c2, color, thickness=1)\n",
    "\n",
    "  \n",
    "    agent_list = ['Car', 'Bus']\n",
    "    loc_list = ['VehLane', 'OutgoLane', 'IncomLane',  'Jun', 'Parking']\n",
    "    action_list =  ['Brake','IncatLft', 'IncatRht', 'HazLit']\n",
    "    \n",
    "    \n",
    "    num_icon = np.sum(action)\n",
    "    \n",
    "    icon_size = int(np.min([(c2[0]-c1[0])/num_icon,(x[3]-x[1])/2,64]))\n",
    "    c3 = c1[0]#+(c2[0]-c1[0])//2-icon_size*num_icon//2\n",
    "\n",
    "    try:\n",
    "        offset_icon = 0\n",
    "        for ii in range(len(action)):\n",
    "            if action[ii]==1:\n",
    "                \n",
    "                img[c1[1]:c1[1]+icon_size,c3+offset_icon:c3+offset_icon+icon_size,:] = cv2.resize(icons[action_list[ii]],(icon_size,icon_size),interpolation=cv2.INTER_NEAREST )*0.5+img[c1[1]:c1[1]+icon_size,c3+offset_icon:c3+offset_icon+icon_size,:]*0.5\n",
    "                offset_icon+=icon_size\n",
    "\n",
    "       \n",
    "        img[c2[1]-icon_size:c2[1],c3:c3+icon_size,:] = cv2.resize(icons[loc_list[loc]],(icon_size,icon_size))*0.5+img[c2[1]-icon_size:c2[1],c3:c3+icon_size,:]*0.5\n",
    "\n",
    "    except:\n",
    "        pass\n",
    "    \n",
    "    # Expand mask dimensions to match the image\n",
    "    mask = mask[c1[1] : c2[1], c1[0] : c2[0]]\n",
    "    mask = mask>0.5\n",
    "    \n",
    "    img[c1[1] : c2[1], c1[0] : c2[0], :][mask] = (\n",
    "                                img[c1[1] : c2[1], c1[0] : c2[0],:][mask] * 0.65 + np.array(color) * 0.35\n",
    "                            )\n"
   ]
  },
  {
   "cell_type": "code",
   "execution_count": 8,
   "id": "22c83834",
   "metadata": {},
   "outputs": [
    {
     "name": "stdout",
     "output_type": "stream",
     "text": [
      "Removed New dir\n"
     ]
    }
   ],
   "source": [
    "import shutil \n",
    "import time\n",
    "try: \n",
    "    shutil.rmtree('./Result/')\n",
    "    print(\"Removed New dir\")\n",
    "except:\n",
    "    print(\"Making New dir\")\n",
    "\n",
    "filepath = './Result/'\n",
    "if not os.path.exists(os.path.dirname(filepath)):\n",
    "    try:\n",
    "        os.makedirs(os.path.dirname(filepath))\n",
    "    except OSError as exc: # Guard against race condition\n",
    "        if exc.errno != errno.EEXIST:\n",
    "            raise\n",
    "\n",
    "COLORS =[\n",
    "        [255, 0, 0],     # Red\n",
    "        [0, 255, 0],     # Green\n",
    "        [0, 0, 255],     # Blue\n",
    "        [255, 255, 0],   # Yellow\n",
    "        [255, 0, 255],   # Magenta\n",
    "        [0, 255, 255],   # Cyan\n",
    "        [128, 0, 0],     # Maroon\n",
    "        [0, 128, 0],     # Green (dark)\n",
    "        [0, 0, 128],     # Navy\n",
    "        [128, 128, 0],   # Olive\n",
    "        [128, 0, 128],   # Purple\n",
    "        [0, 128, 128],   # Teal\n",
    "        [255, 165, 0],   # Orange\n",
    "        [210, 180, 140], # Tan\n",
    "        [255, 192, 203], # Pink\n",
    "        [0, 128, 128],   # Teal\n",
    "        [255, 99, 71],   # Tomato\n",
    "        [139, 69, 19],   # Saddle Brown\n",
    "        [0, 128, 0],     # Green (dark)\n",
    "        [255, 20, 147]   # Deep Pink\n",
    "    ]"
   ]
  },
  {
   "cell_type": "code",
   "execution_count": 12,
   "id": "0bb8a374",
   "metadata": {},
   "outputs": [
    {
     "name": "stdout",
     "output_type": "stream",
     "text": [
      "Invalid Target Dir\n"
     ]
    },
    {
     "ename": "NameError",
     "evalue": "name 'searchLabel' is not defined",
     "output_type": "error",
     "traceback": [
      "\u001b[0;31m---------------------------------------------------------------------------\u001b[0m",
      "\u001b[0;31mNameError\u001b[0m                                 Traceback (most recent call last)",
      "Cell \u001b[0;32mIn[12], line 21\u001b[0m\n\u001b[1;32m     18\u001b[0m     \u001b[38;5;28mprint\u001b[39m(\u001b[38;5;124m\"\u001b[39m\u001b[38;5;124mInvalid Target Dir\u001b[39m\u001b[38;5;124m\"\u001b[39m)\n\u001b[1;32m     20\u001b[0m \u001b[38;5;28;01mwith\u001b[39;00m torch\u001b[38;5;241m.\u001b[39mno_grad():\n\u001b[0;32m---> 21\u001b[0m     \u001b[38;5;28;01mfor\u001b[39;00m jj \u001b[38;5;129;01min\u001b[39;00m \u001b[38;5;28mrange\u001b[39m(\u001b[38;5;28mlen\u001b[39m(\u001b[43msearchLabel\u001b[49m)\u001b[38;5;241m-\u001b[39m\u001b[38;5;241m1\u001b[39m):\n\u001b[1;32m     22\u001b[0m         \u001b[38;5;28;01mif\u001b[39;00m jj\u001b[38;5;241m%\u001b[39m\u001b[38;5;241m70\u001b[39m\u001b[38;5;241m==\u001b[39m\u001b[38;5;241m0\u001b[39m \u001b[38;5;129;01mand\u001b[39;00m jj\u001b[38;5;241m<\u001b[39m\u001b[38;5;241m1000\u001b[39m:\n\u001b[1;32m     23\u001b[0m             \n\u001b[1;32m     24\u001b[0m             \u001b[38;5;66;03m#===============================\u001b[39;00m\n\u001b[1;32m     25\u001b[0m             t1\u001b[38;5;241m.\u001b[39mappend(time\u001b[38;5;241m.\u001b[39mtime())\n",
      "\u001b[0;31mNameError\u001b[0m: name 'searchLabel' is not defined"
     ]
    }
   ],
   "source": [
    "count = 0\n",
    "frame_num = 0\n",
    "write=False\n",
    "t1 = []\n",
    "t2 = []\n",
    "t3 = []\n",
    "t4 = []\n",
    "t5 = []\n",
    "old_reid_feat = []\n",
    "reid_feat = []\n",
    "track_num = 1\n",
    "track_thresh = 0.5\n",
    "target_folder = ''#Target Dir \n",
    "\n",
    "try:\n",
    "    searchLabel = sorted(os.listdir(target_folder))\n",
    "except:\n",
    "    print(\"Invalid Target Dir\")\n",
    "    \n",
    "with torch.no_grad():\n",
    "    for jj in range(len(searchLabel)-1):\n",
    "        if jj%70==0 and jj<1000:\n",
    "            \n",
    "            #===============================\n",
    "            t1.append(time.time())\n",
    "            #===============================\n",
    "\n",
    "\n",
    "\n",
    "\n",
    "            img_name = target_folder + '/' + searchLabel[jj]\n",
    "            results = model(img_name,verbose=False, imgsz=[480,1280])\n",
    "            \n",
    "            #===============================\n",
    "            t2.append(time.time())\n",
    "            #===============================\n",
    "            target_outputs = results[0].boxes.data.cpu().numpy()\n",
    "            target_img = results[0].orig_img\n",
    "            \n",
    "            target_img = np.array(target_img[:, :, ::-1])\n",
    "            \n",
    "            xyxy = target_outputs[:,0:4]\n",
    "            cls = target_outputs[:,5].astype('int')\n",
    "            loc = target_outputs[:,6].astype('int')\n",
    "            action = target_outputs[:,7:].astype('int')\n",
    "            #===============================\n",
    "            t3.append(time.time())\n",
    "            #===============================\n",
    "            for i in range(xyxy.shape[0]):\n",
    "                #print(naming_num[i])\n",
    "\n",
    "                seg_plot_one_box(xyxy[i],i, target_img,results[0].masks.data[i].cpu().numpy(),cls[i],loc[i],action[i],color=COLORS[i%len(COLORS)])\n",
    "\n",
    "\n",
    "            #===============================\n",
    "\n",
    "            t4.append(time.time())\n",
    "            \n",
    "        \n",
    "            if write==True:\n",
    "                target_img = target_img.copy()\n",
    "\n",
    "                path = './Result/'+str(jj).zfill(6)+'.png'\n",
    "                cv2.imwrite(path,target_img[:, :, ::-1])\n",
    "            else:\n",
    "                plt.rcParams['figure.figsize'] = [20,10]\n",
    "                plt.imshow(target_img)\n",
    "                plt.show()   \n",
    "                \n",
    "            \n",
    "            "
   ]
  },
  {
   "cell_type": "code",
   "execution_count": 92,
   "id": "1200e960",
   "metadata": {},
   "outputs": [
    {
     "name": "stdout",
     "output_type": "stream",
     "text": [
      "Run model              : 0.023553848266601562\n",
      "Post Process           : 0.005632162094116211\n",
      "Plot Results           : 0.007514238357543945\n"
     ]
    }
   ],
   "source": [
    "#print('Read Image and register:' , np.median((np.array(t1)-np.array(t0))))\n",
    "print('Run model              :' , np.median((np.array(t2)-np.array(t1))))\n",
    "print('Post Process           :' , np.median((np.array(t3)-np.array(t2))))\n",
    "print('Plot Results           :' , np.median((np.array(t4)-np.array(t3))))\n",
    "#print('Tracking               :' , np.median((np.array(t5)-np.array(t4))))\n",
    "#print('Total Result           :' , np.median((np.array(t5)-np.array(t0))))\n",
    "#print('total images : ', idx)"
   ]
  },
  {
   "cell_type": "code",
   "execution_count": null,
   "id": "753468ed",
   "metadata": {},
   "outputs": [],
   "source": []
  }
 ],
 "metadata": {
  "kernelspec": {
   "display_name": "Python 3 (ipykernel)",
   "language": "python",
   "name": "python3"
  },
  "language_info": {
   "codemirror_mode": {
    "name": "ipython",
    "version": 3
   },
   "file_extension": ".py",
   "mimetype": "text/x-python",
   "name": "python",
   "nbconvert_exporter": "python",
   "pygments_lexer": "ipython3",
   "version": "3.10.12"
  }
 },
 "nbformat": 4,
 "nbformat_minor": 5
}
